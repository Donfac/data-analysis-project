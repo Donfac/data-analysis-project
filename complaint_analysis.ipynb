{
  "nbformat": 4,
  "nbformat_minor": 0,
  "metadata": {
    "colab": {
      "provenance": [],
      "include_colab_link": true
    },
    "kernelspec": {
      "name": "python3",
      "display_name": "Python 3"
    },
    "language_info": {
      "name": "python"
    }
  },
  "cells": [
    {
      "cell_type": "markdown",
      "metadata": {
        "id": "view-in-github",
        "colab_type": "text"
      },
      "source": [
        "<a href=\"https://colab.research.google.com/github/Donfac/data-analysis-project/blob/main/complaint_analysis.ipynb\" target=\"_parent\"><img src=\"https://colab.research.google.com/assets/colab-badge.svg\" alt=\"Open In Colab\"/></a>"
      ]
    },
    {
      "cell_type": "markdown",
      "source": [
        "Analyser automatiquement les plaintes des citoyens afin d’extraire les informations importantes, en particulier les thèmes les plus fréquents, pour aider les décideurs à mieux comprendre les problèmes majeurs rencontrés par la population et ainsi orienter les actions ou solutions à mettre en place."
      ],
      "metadata": {
        "id": "0aDwA_I_FN7N"
      }
    },
    {
      "cell_type": "markdown",
      "source": [
        "I - IMPORT"
      ],
      "metadata": {
        "id": "QOOm92sHF_BI"
      }
    },
    {
      "cell_type": "code",
      "execution_count": null,
      "metadata": {
        "colab": {
          "base_uri": "https://localhost:8080/"
        },
        "id": "dPG4YDfKChlH",
        "outputId": "55483096-285b-495b-fc18-59328ff628ee"
      },
      "outputs": [
        {
          "output_type": "stream",
          "name": "stderr",
          "text": [
            "/tmp/ipython-input-3941156233.py:2: DtypeWarning: Columns (48,49) have mixed types. Specify dtype option on import or set low_memory=False.\n",
            "  df = pd.read_csv(\"/content/drive/MyDrive/Datas/311_Service_Requests_from_2010_to_Present.csv\")\n"
          ]
        }
      ],
      "source": [
        "import pandas as pd\n",
        "df = pd.read_csv(\"/content/drive/MyDrive/Datas/311_Service_Requests_from_2010_to_Present.csv\")"
      ]
    },
    {
      "cell_type": "code",
      "source": [
        "df.head(4)"
      ],
      "metadata": {
        "colab": {
          "base_uri": "https://localhost:8080/",
          "height": 398
        },
        "id": "m7VtvcuZQfL2",
        "outputId": "0e68bfcb-aa24-4916-c897-406ec216be94"
      },
      "execution_count": null,
      "outputs": [
        {
          "output_type": "execute_result",
          "data": {
            "text/plain": [
              "   Unique Key            Created Date             Closed Date Agency  \\\n",
              "0    32310363  12/31/2015 11:59:45 PM  01/01/2016 12:55:15 AM   NYPD   \n",
              "1    32309934  12/31/2015 11:59:44 PM  01/01/2016 01:26:57 AM   NYPD   \n",
              "2    32309159  12/31/2015 11:59:29 PM  01/01/2016 04:51:03 AM   NYPD   \n",
              "3    32305098  12/31/2015 11:57:46 PM  01/01/2016 07:43:13 AM   NYPD   \n",
              "\n",
              "                       Agency Name           Complaint Type  \\\n",
              "0  New York City Police Department  Noise - Street/Sidewalk   \n",
              "1  New York City Police Department         Blocked Driveway   \n",
              "2  New York City Police Department         Blocked Driveway   \n",
              "3  New York City Police Department          Illegal Parking   \n",
              "\n",
              "                     Descriptor    Location Type  Incident Zip  \\\n",
              "0              Loud Music/Party  Street/Sidewalk       10034.0   \n",
              "1                     No Access  Street/Sidewalk       11105.0   \n",
              "2                     No Access  Street/Sidewalk       10458.0   \n",
              "3  Commercial Overnight Parking  Street/Sidewalk       10461.0   \n",
              "\n",
              "        Incident Address  ... Bridge Highway Name Bridge Highway Direction  \\\n",
              "0    71 VERMILYEA AVENUE  ...                 NaN                      NaN   \n",
              "1        27-07 23 AVENUE  ...                 NaN                      NaN   \n",
              "2  2897 VALENTINE AVENUE  ...                 NaN                      NaN   \n",
              "3    2940 BAISLEY AVENUE  ...                 NaN                      NaN   \n",
              "\n",
              "  Road Ramp Bridge Highway Segment Garage Lot Name Ferry Direction  \\\n",
              "0       NaN                    NaN             NaN             NaN   \n",
              "1       NaN                    NaN             NaN             NaN   \n",
              "2       NaN                    NaN             NaN             NaN   \n",
              "3       NaN                    NaN             NaN             NaN   \n",
              "\n",
              "  Ferry Terminal Name   Latitude  Longitude  \\\n",
              "0                 NaN  40.865682 -73.923501   \n",
              "1                 NaN  40.775945 -73.915094   \n",
              "2                 NaN  40.870325 -73.888525   \n",
              "3                 NaN  40.835994 -73.828379   \n",
              "\n",
              "                                   Location  \n",
              "0   (40.86568153633767, -73.92350095571744)  \n",
              "1  (40.775945312321085, -73.91509393898605)  \n",
              "2  (40.870324522111424, -73.88852464418646)  \n",
              "3   (40.83599404683083, -73.82837939584206)  \n",
              "\n",
              "[4 rows x 53 columns]"
            ],
            "text/html": [
              "\n",
              "  <div id=\"df-bc59b1e3-8b70-4afb-b265-59e2ac2c7c5b\" class=\"colab-df-container\">\n",
              "    <div>\n",
              "<style scoped>\n",
              "    .dataframe tbody tr th:only-of-type {\n",
              "        vertical-align: middle;\n",
              "    }\n",
              "\n",
              "    .dataframe tbody tr th {\n",
              "        vertical-align: top;\n",
              "    }\n",
              "\n",
              "    .dataframe thead th {\n",
              "        text-align: right;\n",
              "    }\n",
              "</style>\n",
              "<table border=\"1\" class=\"dataframe\">\n",
              "  <thead>\n",
              "    <tr style=\"text-align: right;\">\n",
              "      <th></th>\n",
              "      <th>Unique Key</th>\n",
              "      <th>Created Date</th>\n",
              "      <th>Closed Date</th>\n",
              "      <th>Agency</th>\n",
              "      <th>Agency Name</th>\n",
              "      <th>Complaint Type</th>\n",
              "      <th>Descriptor</th>\n",
              "      <th>Location Type</th>\n",
              "      <th>Incident Zip</th>\n",
              "      <th>Incident Address</th>\n",
              "      <th>...</th>\n",
              "      <th>Bridge Highway Name</th>\n",
              "      <th>Bridge Highway Direction</th>\n",
              "      <th>Road Ramp</th>\n",
              "      <th>Bridge Highway Segment</th>\n",
              "      <th>Garage Lot Name</th>\n",
              "      <th>Ferry Direction</th>\n",
              "      <th>Ferry Terminal Name</th>\n",
              "      <th>Latitude</th>\n",
              "      <th>Longitude</th>\n",
              "      <th>Location</th>\n",
              "    </tr>\n",
              "  </thead>\n",
              "  <tbody>\n",
              "    <tr>\n",
              "      <th>0</th>\n",
              "      <td>32310363</td>\n",
              "      <td>12/31/2015 11:59:45 PM</td>\n",
              "      <td>01/01/2016 12:55:15 AM</td>\n",
              "      <td>NYPD</td>\n",
              "      <td>New York City Police Department</td>\n",
              "      <td>Noise - Street/Sidewalk</td>\n",
              "      <td>Loud Music/Party</td>\n",
              "      <td>Street/Sidewalk</td>\n",
              "      <td>10034.0</td>\n",
              "      <td>71 VERMILYEA AVENUE</td>\n",
              "      <td>...</td>\n",
              "      <td>NaN</td>\n",
              "      <td>NaN</td>\n",
              "      <td>NaN</td>\n",
              "      <td>NaN</td>\n",
              "      <td>NaN</td>\n",
              "      <td>NaN</td>\n",
              "      <td>NaN</td>\n",
              "      <td>40.865682</td>\n",
              "      <td>-73.923501</td>\n",
              "      <td>(40.86568153633767, -73.92350095571744)</td>\n",
              "    </tr>\n",
              "    <tr>\n",
              "      <th>1</th>\n",
              "      <td>32309934</td>\n",
              "      <td>12/31/2015 11:59:44 PM</td>\n",
              "      <td>01/01/2016 01:26:57 AM</td>\n",
              "      <td>NYPD</td>\n",
              "      <td>New York City Police Department</td>\n",
              "      <td>Blocked Driveway</td>\n",
              "      <td>No Access</td>\n",
              "      <td>Street/Sidewalk</td>\n",
              "      <td>11105.0</td>\n",
              "      <td>27-07 23 AVENUE</td>\n",
              "      <td>...</td>\n",
              "      <td>NaN</td>\n",
              "      <td>NaN</td>\n",
              "      <td>NaN</td>\n",
              "      <td>NaN</td>\n",
              "      <td>NaN</td>\n",
              "      <td>NaN</td>\n",
              "      <td>NaN</td>\n",
              "      <td>40.775945</td>\n",
              "      <td>-73.915094</td>\n",
              "      <td>(40.775945312321085, -73.91509393898605)</td>\n",
              "    </tr>\n",
              "    <tr>\n",
              "      <th>2</th>\n",
              "      <td>32309159</td>\n",
              "      <td>12/31/2015 11:59:29 PM</td>\n",
              "      <td>01/01/2016 04:51:03 AM</td>\n",
              "      <td>NYPD</td>\n",
              "      <td>New York City Police Department</td>\n",
              "      <td>Blocked Driveway</td>\n",
              "      <td>No Access</td>\n",
              "      <td>Street/Sidewalk</td>\n",
              "      <td>10458.0</td>\n",
              "      <td>2897 VALENTINE AVENUE</td>\n",
              "      <td>...</td>\n",
              "      <td>NaN</td>\n",
              "      <td>NaN</td>\n",
              "      <td>NaN</td>\n",
              "      <td>NaN</td>\n",
              "      <td>NaN</td>\n",
              "      <td>NaN</td>\n",
              "      <td>NaN</td>\n",
              "      <td>40.870325</td>\n",
              "      <td>-73.888525</td>\n",
              "      <td>(40.870324522111424, -73.88852464418646)</td>\n",
              "    </tr>\n",
              "    <tr>\n",
              "      <th>3</th>\n",
              "      <td>32305098</td>\n",
              "      <td>12/31/2015 11:57:46 PM</td>\n",
              "      <td>01/01/2016 07:43:13 AM</td>\n",
              "      <td>NYPD</td>\n",
              "      <td>New York City Police Department</td>\n",
              "      <td>Illegal Parking</td>\n",
              "      <td>Commercial Overnight Parking</td>\n",
              "      <td>Street/Sidewalk</td>\n",
              "      <td>10461.0</td>\n",
              "      <td>2940 BAISLEY AVENUE</td>\n",
              "      <td>...</td>\n",
              "      <td>NaN</td>\n",
              "      <td>NaN</td>\n",
              "      <td>NaN</td>\n",
              "      <td>NaN</td>\n",
              "      <td>NaN</td>\n",
              "      <td>NaN</td>\n",
              "      <td>NaN</td>\n",
              "      <td>40.835994</td>\n",
              "      <td>-73.828379</td>\n",
              "      <td>(40.83599404683083, -73.82837939584206)</td>\n",
              "    </tr>\n",
              "  </tbody>\n",
              "</table>\n",
              "<p>4 rows × 53 columns</p>\n",
              "</div>\n",
              "    <div class=\"colab-df-buttons\">\n",
              "\n",
              "  <div class=\"colab-df-container\">\n",
              "    <button class=\"colab-df-convert\" onclick=\"convertToInteractive('df-bc59b1e3-8b70-4afb-b265-59e2ac2c7c5b')\"\n",
              "            title=\"Convert this dataframe to an interactive table.\"\n",
              "            style=\"display:none;\">\n",
              "\n",
              "  <svg xmlns=\"http://www.w3.org/2000/svg\" height=\"24px\" viewBox=\"0 -960 960 960\">\n",
              "    <path d=\"M120-120v-720h720v720H120Zm60-500h600v-160H180v160Zm220 220h160v-160H400v160Zm0 220h160v-160H400v160ZM180-400h160v-160H180v160Zm440 0h160v-160H620v160ZM180-180h160v-160H180v160Zm440 0h160v-160H620v160Z\"/>\n",
              "  </svg>\n",
              "    </button>\n",
              "\n",
              "  <style>\n",
              "    .colab-df-container {\n",
              "      display:flex;\n",
              "      gap: 12px;\n",
              "    }\n",
              "\n",
              "    .colab-df-convert {\n",
              "      background-color: #E8F0FE;\n",
              "      border: none;\n",
              "      border-radius: 50%;\n",
              "      cursor: pointer;\n",
              "      display: none;\n",
              "      fill: #1967D2;\n",
              "      height: 32px;\n",
              "      padding: 0 0 0 0;\n",
              "      width: 32px;\n",
              "    }\n",
              "\n",
              "    .colab-df-convert:hover {\n",
              "      background-color: #E2EBFA;\n",
              "      box-shadow: 0px 1px 2px rgba(60, 64, 67, 0.3), 0px 1px 3px 1px rgba(60, 64, 67, 0.15);\n",
              "      fill: #174EA6;\n",
              "    }\n",
              "\n",
              "    .colab-df-buttons div {\n",
              "      margin-bottom: 4px;\n",
              "    }\n",
              "\n",
              "    [theme=dark] .colab-df-convert {\n",
              "      background-color: #3B4455;\n",
              "      fill: #D2E3FC;\n",
              "    }\n",
              "\n",
              "    [theme=dark] .colab-df-convert:hover {\n",
              "      background-color: #434B5C;\n",
              "      box-shadow: 0px 1px 3px 1px rgba(0, 0, 0, 0.15);\n",
              "      filter: drop-shadow(0px 1px 2px rgba(0, 0, 0, 0.3));\n",
              "      fill: #FFFFFF;\n",
              "    }\n",
              "  </style>\n",
              "\n",
              "    <script>\n",
              "      const buttonEl =\n",
              "        document.querySelector('#df-bc59b1e3-8b70-4afb-b265-59e2ac2c7c5b button.colab-df-convert');\n",
              "      buttonEl.style.display =\n",
              "        google.colab.kernel.accessAllowed ? 'block' : 'none';\n",
              "\n",
              "      async function convertToInteractive(key) {\n",
              "        const element = document.querySelector('#df-bc59b1e3-8b70-4afb-b265-59e2ac2c7c5b');\n",
              "        const dataTable =\n",
              "          await google.colab.kernel.invokeFunction('convertToInteractive',\n",
              "                                                    [key], {});\n",
              "        if (!dataTable) return;\n",
              "\n",
              "        const docLinkHtml = 'Like what you see? Visit the ' +\n",
              "          '<a target=\"_blank\" href=https://colab.research.google.com/notebooks/data_table.ipynb>data table notebook</a>'\n",
              "          + ' to learn more about interactive tables.';\n",
              "        element.innerHTML = '';\n",
              "        dataTable['output_type'] = 'display_data';\n",
              "        await google.colab.output.renderOutput(dataTable, element);\n",
              "        const docLink = document.createElement('div');\n",
              "        docLink.innerHTML = docLinkHtml;\n",
              "        element.appendChild(docLink);\n",
              "      }\n",
              "    </script>\n",
              "  </div>\n",
              "\n",
              "\n",
              "    <div id=\"df-a662161d-3909-4742-915c-c179a23a56e5\">\n",
              "      <button class=\"colab-df-quickchart\" onclick=\"quickchart('df-a662161d-3909-4742-915c-c179a23a56e5')\"\n",
              "                title=\"Suggest charts\"\n",
              "                style=\"display:none;\">\n",
              "\n",
              "<svg xmlns=\"http://www.w3.org/2000/svg\" height=\"24px\"viewBox=\"0 0 24 24\"\n",
              "     width=\"24px\">\n",
              "    <g>\n",
              "        <path d=\"M19 3H5c-1.1 0-2 .9-2 2v14c0 1.1.9 2 2 2h14c1.1 0 2-.9 2-2V5c0-1.1-.9-2-2-2zM9 17H7v-7h2v7zm4 0h-2V7h2v10zm4 0h-2v-4h2v4z\"/>\n",
              "    </g>\n",
              "</svg>\n",
              "      </button>\n",
              "\n",
              "<style>\n",
              "  .colab-df-quickchart {\n",
              "      --bg-color: #E8F0FE;\n",
              "      --fill-color: #1967D2;\n",
              "      --hover-bg-color: #E2EBFA;\n",
              "      --hover-fill-color: #174EA6;\n",
              "      --disabled-fill-color: #AAA;\n",
              "      --disabled-bg-color: #DDD;\n",
              "  }\n",
              "\n",
              "  [theme=dark] .colab-df-quickchart {\n",
              "      --bg-color: #3B4455;\n",
              "      --fill-color: #D2E3FC;\n",
              "      --hover-bg-color: #434B5C;\n",
              "      --hover-fill-color: #FFFFFF;\n",
              "      --disabled-bg-color: #3B4455;\n",
              "      --disabled-fill-color: #666;\n",
              "  }\n",
              "\n",
              "  .colab-df-quickchart {\n",
              "    background-color: var(--bg-color);\n",
              "    border: none;\n",
              "    border-radius: 50%;\n",
              "    cursor: pointer;\n",
              "    display: none;\n",
              "    fill: var(--fill-color);\n",
              "    height: 32px;\n",
              "    padding: 0;\n",
              "    width: 32px;\n",
              "  }\n",
              "\n",
              "  .colab-df-quickchart:hover {\n",
              "    background-color: var(--hover-bg-color);\n",
              "    box-shadow: 0 1px 2px rgba(60, 64, 67, 0.3), 0 1px 3px 1px rgba(60, 64, 67, 0.15);\n",
              "    fill: var(--button-hover-fill-color);\n",
              "  }\n",
              "\n",
              "  .colab-df-quickchart-complete:disabled,\n",
              "  .colab-df-quickchart-complete:disabled:hover {\n",
              "    background-color: var(--disabled-bg-color);\n",
              "    fill: var(--disabled-fill-color);\n",
              "    box-shadow: none;\n",
              "  }\n",
              "\n",
              "  .colab-df-spinner {\n",
              "    border: 2px solid var(--fill-color);\n",
              "    border-color: transparent;\n",
              "    border-bottom-color: var(--fill-color);\n",
              "    animation:\n",
              "      spin 1s steps(1) infinite;\n",
              "  }\n",
              "\n",
              "  @keyframes spin {\n",
              "    0% {\n",
              "      border-color: transparent;\n",
              "      border-bottom-color: var(--fill-color);\n",
              "      border-left-color: var(--fill-color);\n",
              "    }\n",
              "    20% {\n",
              "      border-color: transparent;\n",
              "      border-left-color: var(--fill-color);\n",
              "      border-top-color: var(--fill-color);\n",
              "    }\n",
              "    30% {\n",
              "      border-color: transparent;\n",
              "      border-left-color: var(--fill-color);\n",
              "      border-top-color: var(--fill-color);\n",
              "      border-right-color: var(--fill-color);\n",
              "    }\n",
              "    40% {\n",
              "      border-color: transparent;\n",
              "      border-right-color: var(--fill-color);\n",
              "      border-top-color: var(--fill-color);\n",
              "    }\n",
              "    60% {\n",
              "      border-color: transparent;\n",
              "      border-right-color: var(--fill-color);\n",
              "    }\n",
              "    80% {\n",
              "      border-color: transparent;\n",
              "      border-right-color: var(--fill-color);\n",
              "      border-bottom-color: var(--fill-color);\n",
              "    }\n",
              "    90% {\n",
              "      border-color: transparent;\n",
              "      border-bottom-color: var(--fill-color);\n",
              "    }\n",
              "  }\n",
              "</style>\n",
              "\n",
              "      <script>\n",
              "        async function quickchart(key) {\n",
              "          const quickchartButtonEl =\n",
              "            document.querySelector('#' + key + ' button');\n",
              "          quickchartButtonEl.disabled = true;  // To prevent multiple clicks.\n",
              "          quickchartButtonEl.classList.add('colab-df-spinner');\n",
              "          try {\n",
              "            const charts = await google.colab.kernel.invokeFunction(\n",
              "                'suggestCharts', [key], {});\n",
              "          } catch (error) {\n",
              "            console.error('Error during call to suggestCharts:', error);\n",
              "          }\n",
              "          quickchartButtonEl.classList.remove('colab-df-spinner');\n",
              "          quickchartButtonEl.classList.add('colab-df-quickchart-complete');\n",
              "        }\n",
              "        (() => {\n",
              "          let quickchartButtonEl =\n",
              "            document.querySelector('#df-a662161d-3909-4742-915c-c179a23a56e5 button');\n",
              "          quickchartButtonEl.style.display =\n",
              "            google.colab.kernel.accessAllowed ? 'block' : 'none';\n",
              "        })();\n",
              "      </script>\n",
              "    </div>\n",
              "\n",
              "    </div>\n",
              "  </div>\n"
            ],
            "application/vnd.google.colaboratory.intrinsic+json": {
              "type": "dataframe",
              "variable_name": "df"
            }
          },
          "metadata": {},
          "execution_count": 3
        }
      ]
    },
    {
      "cell_type": "code",
      "source": [
        "df['Resolution Description'].iloc[1]"
      ],
      "metadata": {
        "colab": {
          "base_uri": "https://localhost:8080/",
          "height": 35
        },
        "id": "cve7KhxFdJlC",
        "outputId": "66ff8544-2c90-4c51-9ffe-2114ea4450ad"
      },
      "execution_count": null,
      "outputs": [
        {
          "output_type": "execute_result",
          "data": {
            "text/plain": [
              "'The Police Department responded to the complaint and with the information available observed no evidence of the violation at that time.'"
            ],
            "application/vnd.google.colaboratory.intrinsic+json": {
              "type": "string"
            }
          },
          "metadata": {},
          "execution_count": 4
        }
      ]
    },
    {
      "cell_type": "code",
      "source": [
        "df.shape"
      ],
      "metadata": {
        "colab": {
          "base_uri": "https://localhost:8080/"
        },
        "id": "SxwE18ZBEzLm",
        "outputId": "3d823aa3-d272-4f6c-f249-72921601dc4c"
      },
      "execution_count": null,
      "outputs": [
        {
          "output_type": "execute_result",
          "data": {
            "text/plain": [
              "(364558, 53)"
            ]
          },
          "metadata": {},
          "execution_count": 5
        }
      ]
    },
    {
      "cell_type": "code",
      "source": [
        "pip install nltk"
      ],
      "metadata": {
        "id": "OLGszX9tVxhr"
      },
      "execution_count": null,
      "outputs": []
    },
    {
      "cell_type": "code",
      "source": [
        "#importation des bibliotheques\n",
        "import nltk\n",
        "import spacy\n",
        "from nltk.corpus import stopwords"
      ],
      "metadata": {
        "id": "Kuy_X-dzFBEQ"
      },
      "execution_count": null,
      "outputs": []
    },
    {
      "cell_type": "code",
      "source": [
        "# Télécharger les stopwords et le modèle spaCy\n",
        "nltk.download('stopwords')\n",
        "nlp = spacy.load(\"en_core_web_sm\")\n",
        "stop_words = set(stopwords.words('english'))"
      ],
      "metadata": {
        "colab": {
          "base_uri": "https://localhost:8080/"
        },
        "id": "Dr2I5deVFDpr",
        "outputId": "68d9500c-424b-4fd0-ab7d-7773ae568edf"
      },
      "execution_count": null,
      "outputs": [
        {
          "output_type": "stream",
          "name": "stderr",
          "text": [
            "[nltk_data] Downloading package stopwords to /root/nltk_data...\n",
            "[nltk_data]   Unzipping corpora/stopwords.zip.\n"
          ]
        }
      ]
    },
    {
      "cell_type": "code",
      "source": [
        "# Supprimer les lignes vides ou NaN\n",
        "df = df.dropna(subset=['Resolution Description'])"
      ],
      "metadata": {
        "id": "cHLE2y7VFGcX"
      },
      "execution_count": null,
      "outputs": []
    },
    {
      "cell_type": "markdown",
      "source": [
        "II - CLEANING"
      ],
      "metadata": {
        "id": "2yi0dOEkGMFv"
      }
    },
    {
      "cell_type": "code",
      "source": [
        "import re"
      ],
      "metadata": {
        "id": "RBLE0aLAGq_-"
      },
      "execution_count": null,
      "outputs": []
    },
    {
      "cell_type": "code",
      "source": [
        "# Nettoyage et lemmatisation\n",
        "def preprocess_text(text):\n",
        "    # Mise en minuscule\n",
        "    text = text.lower()\n",
        "    # Suppression des caractères spéciaux, chiffres, ponctuations\n",
        "    text = re.sub(r'[^a-z\\s]', '', text)\n",
        "    # Tokenisation et lemmatisation\n",
        "    doc = nlp(text)\n",
        "    tokens = [token.lemma_ for token in doc if token.text not in stop_words and token.is_alpha]\n",
        "    return \" \".join(tokens)"
      ],
      "metadata": {
        "id": "hOP7JeoIGJeZ"
      },
      "execution_count": null,
      "outputs": []
    },
    {
      "cell_type": "code",
      "source": [
        "# Appliquer le nettoyage à la colonne\n",
        "df['cleaned_text'] = df['Resolution Description'].apply(preprocess_text)"
      ],
      "metadata": {
        "id": "NqXJJkJwGmrX"
      },
      "execution_count": null,
      "outputs": []
    },
    {
      "cell_type": "code",
      "source": [
        "# Aperçu\n",
        "df[['Resolution Description', 'cleaned_text']].head()"
      ],
      "metadata": {
        "colab": {
          "base_uri": "https://localhost:8080/",
          "height": 206
        },
        "id": "MgWzoKB-GtcJ",
        "outputId": "1ffc7842-c698-4ea4-b620-f8587206c78a"
      },
      "execution_count": null,
      "outputs": [
        {
          "output_type": "execute_result",
          "data": {
            "text/plain": [
              "                              Resolution Description  \\\n",
              "0  The Police Department responded and upon arriv...   \n",
              "1  The Police Department responded to the complai...   \n",
              "2  The Police Department responded and upon arriv...   \n",
              "3  The Police Department responded to the complai...   \n",
              "4  The Police Department responded and upon arriv...   \n",
              "\n",
              "                                        cleaned_text  \n",
              "0  police department respond upon arrival respons...  \n",
              "1  police department respond complaint informatio...  \n",
              "2  police department respond upon arrival respons...  \n",
              "3  police department respond complaint take actio...  \n",
              "4  police department respond upon arrival respons...  "
            ],
            "text/html": [
              "\n",
              "  <div id=\"df-5012a959-2364-4f6d-ab1c-c85f0bc7753b\" class=\"colab-df-container\">\n",
              "    <div>\n",
              "<style scoped>\n",
              "    .dataframe tbody tr th:only-of-type {\n",
              "        vertical-align: middle;\n",
              "    }\n",
              "\n",
              "    .dataframe tbody tr th {\n",
              "        vertical-align: top;\n",
              "    }\n",
              "\n",
              "    .dataframe thead th {\n",
              "        text-align: right;\n",
              "    }\n",
              "</style>\n",
              "<table border=\"1\" class=\"dataframe\">\n",
              "  <thead>\n",
              "    <tr style=\"text-align: right;\">\n",
              "      <th></th>\n",
              "      <th>Resolution Description</th>\n",
              "      <th>cleaned_text</th>\n",
              "    </tr>\n",
              "  </thead>\n",
              "  <tbody>\n",
              "    <tr>\n",
              "      <th>0</th>\n",
              "      <td>The Police Department responded and upon arriv...</td>\n",
              "      <td>police department respond upon arrival respons...</td>\n",
              "    </tr>\n",
              "    <tr>\n",
              "      <th>1</th>\n",
              "      <td>The Police Department responded to the complai...</td>\n",
              "      <td>police department respond complaint informatio...</td>\n",
              "    </tr>\n",
              "    <tr>\n",
              "      <th>2</th>\n",
              "      <td>The Police Department responded and upon arriv...</td>\n",
              "      <td>police department respond upon arrival respons...</td>\n",
              "    </tr>\n",
              "    <tr>\n",
              "      <th>3</th>\n",
              "      <td>The Police Department responded to the complai...</td>\n",
              "      <td>police department respond complaint take actio...</td>\n",
              "    </tr>\n",
              "    <tr>\n",
              "      <th>4</th>\n",
              "      <td>The Police Department responded and upon arriv...</td>\n",
              "      <td>police department respond upon arrival respons...</td>\n",
              "    </tr>\n",
              "  </tbody>\n",
              "</table>\n",
              "</div>\n",
              "    <div class=\"colab-df-buttons\">\n",
              "\n",
              "  <div class=\"colab-df-container\">\n",
              "    <button class=\"colab-df-convert\" onclick=\"convertToInteractive('df-5012a959-2364-4f6d-ab1c-c85f0bc7753b')\"\n",
              "            title=\"Convert this dataframe to an interactive table.\"\n",
              "            style=\"display:none;\">\n",
              "\n",
              "  <svg xmlns=\"http://www.w3.org/2000/svg\" height=\"24px\" viewBox=\"0 -960 960 960\">\n",
              "    <path d=\"M120-120v-720h720v720H120Zm60-500h600v-160H180v160Zm220 220h160v-160H400v160Zm0 220h160v-160H400v160ZM180-400h160v-160H180v160Zm440 0h160v-160H620v160ZM180-180h160v-160H180v160Zm440 0h160v-160H620v160Z\"/>\n",
              "  </svg>\n",
              "    </button>\n",
              "\n",
              "  <style>\n",
              "    .colab-df-container {\n",
              "      display:flex;\n",
              "      gap: 12px;\n",
              "    }\n",
              "\n",
              "    .colab-df-convert {\n",
              "      background-color: #E8F0FE;\n",
              "      border: none;\n",
              "      border-radius: 50%;\n",
              "      cursor: pointer;\n",
              "      display: none;\n",
              "      fill: #1967D2;\n",
              "      height: 32px;\n",
              "      padding: 0 0 0 0;\n",
              "      width: 32px;\n",
              "    }\n",
              "\n",
              "    .colab-df-convert:hover {\n",
              "      background-color: #E2EBFA;\n",
              "      box-shadow: 0px 1px 2px rgba(60, 64, 67, 0.3), 0px 1px 3px 1px rgba(60, 64, 67, 0.15);\n",
              "      fill: #174EA6;\n",
              "    }\n",
              "\n",
              "    .colab-df-buttons div {\n",
              "      margin-bottom: 4px;\n",
              "    }\n",
              "\n",
              "    [theme=dark] .colab-df-convert {\n",
              "      background-color: #3B4455;\n",
              "      fill: #D2E3FC;\n",
              "    }\n",
              "\n",
              "    [theme=dark] .colab-df-convert:hover {\n",
              "      background-color: #434B5C;\n",
              "      box-shadow: 0px 1px 3px 1px rgba(0, 0, 0, 0.15);\n",
              "      filter: drop-shadow(0px 1px 2px rgba(0, 0, 0, 0.3));\n",
              "      fill: #FFFFFF;\n",
              "    }\n",
              "  </style>\n",
              "\n",
              "    <script>\n",
              "      const buttonEl =\n",
              "        document.querySelector('#df-5012a959-2364-4f6d-ab1c-c85f0bc7753b button.colab-df-convert');\n",
              "      buttonEl.style.display =\n",
              "        google.colab.kernel.accessAllowed ? 'block' : 'none';\n",
              "\n",
              "      async function convertToInteractive(key) {\n",
              "        const element = document.querySelector('#df-5012a959-2364-4f6d-ab1c-c85f0bc7753b');\n",
              "        const dataTable =\n",
              "          await google.colab.kernel.invokeFunction('convertToInteractive',\n",
              "                                                    [key], {});\n",
              "        if (!dataTable) return;\n",
              "\n",
              "        const docLinkHtml = 'Like what you see? Visit the ' +\n",
              "          '<a target=\"_blank\" href=https://colab.research.google.com/notebooks/data_table.ipynb>data table notebook</a>'\n",
              "          + ' to learn more about interactive tables.';\n",
              "        element.innerHTML = '';\n",
              "        dataTable['output_type'] = 'display_data';\n",
              "        await google.colab.output.renderOutput(dataTable, element);\n",
              "        const docLink = document.createElement('div');\n",
              "        docLink.innerHTML = docLinkHtml;\n",
              "        element.appendChild(docLink);\n",
              "      }\n",
              "    </script>\n",
              "  </div>\n",
              "\n",
              "\n",
              "    <div id=\"df-89f16c93-45eb-4cf4-8b50-be97ea3bfe1f\">\n",
              "      <button class=\"colab-df-quickchart\" onclick=\"quickchart('df-89f16c93-45eb-4cf4-8b50-be97ea3bfe1f')\"\n",
              "                title=\"Suggest charts\"\n",
              "                style=\"display:none;\">\n",
              "\n",
              "<svg xmlns=\"http://www.w3.org/2000/svg\" height=\"24px\"viewBox=\"0 0 24 24\"\n",
              "     width=\"24px\">\n",
              "    <g>\n",
              "        <path d=\"M19 3H5c-1.1 0-2 .9-2 2v14c0 1.1.9 2 2 2h14c1.1 0 2-.9 2-2V5c0-1.1-.9-2-2-2zM9 17H7v-7h2v7zm4 0h-2V7h2v10zm4 0h-2v-4h2v4z\"/>\n",
              "    </g>\n",
              "</svg>\n",
              "      </button>\n",
              "\n",
              "<style>\n",
              "  .colab-df-quickchart {\n",
              "      --bg-color: #E8F0FE;\n",
              "      --fill-color: #1967D2;\n",
              "      --hover-bg-color: #E2EBFA;\n",
              "      --hover-fill-color: #174EA6;\n",
              "      --disabled-fill-color: #AAA;\n",
              "      --disabled-bg-color: #DDD;\n",
              "  }\n",
              "\n",
              "  [theme=dark] .colab-df-quickchart {\n",
              "      --bg-color: #3B4455;\n",
              "      --fill-color: #D2E3FC;\n",
              "      --hover-bg-color: #434B5C;\n",
              "      --hover-fill-color: #FFFFFF;\n",
              "      --disabled-bg-color: #3B4455;\n",
              "      --disabled-fill-color: #666;\n",
              "  }\n",
              "\n",
              "  .colab-df-quickchart {\n",
              "    background-color: var(--bg-color);\n",
              "    border: none;\n",
              "    border-radius: 50%;\n",
              "    cursor: pointer;\n",
              "    display: none;\n",
              "    fill: var(--fill-color);\n",
              "    height: 32px;\n",
              "    padding: 0;\n",
              "    width: 32px;\n",
              "  }\n",
              "\n",
              "  .colab-df-quickchart:hover {\n",
              "    background-color: var(--hover-bg-color);\n",
              "    box-shadow: 0 1px 2px rgba(60, 64, 67, 0.3), 0 1px 3px 1px rgba(60, 64, 67, 0.15);\n",
              "    fill: var(--button-hover-fill-color);\n",
              "  }\n",
              "\n",
              "  .colab-df-quickchart-complete:disabled,\n",
              "  .colab-df-quickchart-complete:disabled:hover {\n",
              "    background-color: var(--disabled-bg-color);\n",
              "    fill: var(--disabled-fill-color);\n",
              "    box-shadow: none;\n",
              "  }\n",
              "\n",
              "  .colab-df-spinner {\n",
              "    border: 2px solid var(--fill-color);\n",
              "    border-color: transparent;\n",
              "    border-bottom-color: var(--fill-color);\n",
              "    animation:\n",
              "      spin 1s steps(1) infinite;\n",
              "  }\n",
              "\n",
              "  @keyframes spin {\n",
              "    0% {\n",
              "      border-color: transparent;\n",
              "      border-bottom-color: var(--fill-color);\n",
              "      border-left-color: var(--fill-color);\n",
              "    }\n",
              "    20% {\n",
              "      border-color: transparent;\n",
              "      border-left-color: var(--fill-color);\n",
              "      border-top-color: var(--fill-color);\n",
              "    }\n",
              "    30% {\n",
              "      border-color: transparent;\n",
              "      border-left-color: var(--fill-color);\n",
              "      border-top-color: var(--fill-color);\n",
              "      border-right-color: var(--fill-color);\n",
              "    }\n",
              "    40% {\n",
              "      border-color: transparent;\n",
              "      border-right-color: var(--fill-color);\n",
              "      border-top-color: var(--fill-color);\n",
              "    }\n",
              "    60% {\n",
              "      border-color: transparent;\n",
              "      border-right-color: var(--fill-color);\n",
              "    }\n",
              "    80% {\n",
              "      border-color: transparent;\n",
              "      border-right-color: var(--fill-color);\n",
              "      border-bottom-color: var(--fill-color);\n",
              "    }\n",
              "    90% {\n",
              "      border-color: transparent;\n",
              "      border-bottom-color: var(--fill-color);\n",
              "    }\n",
              "  }\n",
              "</style>\n",
              "\n",
              "      <script>\n",
              "        async function quickchart(key) {\n",
              "          const quickchartButtonEl =\n",
              "            document.querySelector('#' + key + ' button');\n",
              "          quickchartButtonEl.disabled = true;  // To prevent multiple clicks.\n",
              "          quickchartButtonEl.classList.add('colab-df-spinner');\n",
              "          try {\n",
              "            const charts = await google.colab.kernel.invokeFunction(\n",
              "                'suggestCharts', [key], {});\n",
              "          } catch (error) {\n",
              "            console.error('Error during call to suggestCharts:', error);\n",
              "          }\n",
              "          quickchartButtonEl.classList.remove('colab-df-spinner');\n",
              "          quickchartButtonEl.classList.add('colab-df-quickchart-complete');\n",
              "        }\n",
              "        (() => {\n",
              "          let quickchartButtonEl =\n",
              "            document.querySelector('#df-89f16c93-45eb-4cf4-8b50-be97ea3bfe1f button');\n",
              "          quickchartButtonEl.style.display =\n",
              "            google.colab.kernel.accessAllowed ? 'block' : 'none';\n",
              "        })();\n",
              "      </script>\n",
              "    </div>\n",
              "\n",
              "    </div>\n",
              "  </div>\n"
            ],
            "application/vnd.google.colaboratory.intrinsic+json": {
              "type": "dataframe",
              "summary": "{\n  \"name\": \"df[['Resolution Description', 'cleaned_text']]\",\n  \"rows\": 5,\n  \"fields\": [\n    {\n      \"column\": \"Resolution Description\",\n      \"properties\": {\n        \"dtype\": \"string\",\n        \"num_unique_values\": 3,\n        \"samples\": [\n          \"The Police Department responded and upon arrival those responsible for the condition were gone.\",\n          \"The Police Department responded to the complaint and with the information available observed no evidence of the violation at that time.\",\n          \"The Police Department responded to the complaint and took action to fix the condition.\"\n        ],\n        \"semantic_type\": \"\",\n        \"description\": \"\"\n      }\n    },\n    {\n      \"column\": \"cleaned_text\",\n      \"properties\": {\n        \"dtype\": \"string\",\n        \"num_unique_values\": 3,\n        \"samples\": [\n          \"police department respond upon arrival responsible condition go\",\n          \"police department respond complaint information available observe evidence violation time\",\n          \"police department respond complaint take action fix condition\"\n        ],\n        \"semantic_type\": \"\",\n        \"description\": \"\"\n      }\n    }\n  ]\n}"
            }
          },
          "metadata": {},
          "execution_count": 12
        }
      ]
    },
    {
      "cell_type": "markdown",
      "source": [
        "III- VECTORISATION"
      ],
      "metadata": {
        "id": "78COMJRMG3OV"
      }
    },
    {
      "cell_type": "code",
      "source": [
        "import sklearn\n",
        "from sklearn.feature_extraction.text import CountVectorizer, TfidfVectorizer\n",
        "\n",
        "# Limiter à 5000 mots max pour éviter de saturer la mémoire\n",
        "max_features = 5000\n",
        "\n",
        "# 1. CountVectorizer\n",
        "count_vectorizer = CountVectorizer(max_features=max_features)\n",
        "X_count = count_vectorizer.fit_transform(df['cleaned_text'])\n",
        "\n",
        "print(\"CountVectorizer shape:\", X_count.shape)"
      ],
      "metadata": {
        "colab": {
          "base_uri": "https://localhost:8080/"
        },
        "id": "_l2dsFhrG1oU",
        "outputId": "f2648127-9b5b-465a-87ab-47f76e836db1"
      },
      "execution_count": null,
      "outputs": [
        {
          "output_type": "stream",
          "name": "stdout",
          "text": [
            "CountVectorizer shape: (364558, 100)\n"
          ]
        }
      ]
    },
    {
      "cell_type": "code",
      "source": [
        "# 2. TF-IDF Vectorizer\n",
        "tfidf_vectorizer = TfidfVectorizer(max_features=max_features)\n",
        "X_tfidf = tfidf_vectorizer.fit_transform(df['cleaned_text'])\n",
        "\n",
        "print(\"TF-IDF shape:\", X_tfidf.shape)"
      ],
      "metadata": {
        "colab": {
          "base_uri": "https://localhost:8080/"
        },
        "id": "FRI0_Ip2G1ld",
        "outputId": "c612250f-0c03-44ac-81b5-ca6c0e29ad41"
      },
      "execution_count": null,
      "outputs": [
        {
          "output_type": "stream",
          "name": "stdout",
          "text": [
            "TF-IDF shape: (364558, 100)\n"
          ]
        }
      ]
    },
    {
      "cell_type": "markdown",
      "source": [
        "IV - Extraction des sujets dominants"
      ],
      "metadata": {
        "id": "zdB9sa-oHMwz"
      }
    },
    {
      "cell_type": "markdown",
      "source": [
        "1 - modélisation LDA"
      ],
      "metadata": {
        "id": "Q8P7qr5PHR6m"
      }
    },
    {
      "cell_type": "code",
      "source": [
        "from sklearn.decomposition import LatentDirichletAllocation\n",
        "\n",
        "# Appliquer LDA sur la matrice CountVectorizer\n",
        "n_topics = 10  # Tu peux changer ce nombre pour extraire plus de sujets\n",
        "lda_model = LatentDirichletAllocation(n_components=n_topics, random_state=42)\n",
        "lda_model.fit(X_count)\n",
        "\n",
        "# Afficher les 10 mots les plus représentatifs de chaque sujet\n",
        "words = count_vectorizer.get_feature_names_out()\n",
        "\n",
        "for i, topic in enumerate(lda_model.components_):\n",
        "    print(f\"\\n Sujet {i+1}:\")\n",
        "    top_words = topic.argsort()[-10:][::-1]  # 10 mots les plus fréquents\n",
        "    print(\" \".join([words[j] for j in top_words]))"
      ],
      "metadata": {
        "colab": {
          "base_uri": "https://localhost:8080/"
        },
        "id": "ecxtWO38G1iy",
        "outputId": "28b64071-df25-46f3-e2fa-89f5244ac723"
      },
      "execution_count": null,
      "outputs": [
        {
          "output_type": "stream",
          "name": "stdout",
          "text": [
            "\n",
            " Sujet 1:\n",
            "contact request information service please new provide time nycgov insufficient\n",
            "\n",
            " Sujet 2:\n",
            "department police complaint jurisdiction fall respond prepare report condition information\n",
            "\n",
            " Sujet 3:\n",
            "police determine complaint department respond necessary action longterm conclusion park\n",
            "\n",
            " Sujet 4:\n",
            "appropriate day receive submit comment agency city call unit follow\n",
            "\n",
            " Sujet 5:\n",
            "respond complaint department police available observe evidence violation time information\n",
            "\n",
            " Sujet 6:\n",
            "police department condition respond arrival go responsible upon vehicle tow\n",
            "\n",
            " Sujet 7:\n",
            "york forward additional number note reference future response nonemergency hour\n",
            "\n",
            " Sujet 8:\n",
            "department police complaint information review provide additional gain unable entry\n",
            "\n",
            " Sujet 9:\n",
            "police department complaint response issue summon arrest make may new\n",
            "\n",
            " Sujet 10:\n",
            "respond take fix condition action complaint department police prepare report\n"
          ]
        }
      ]
    },
    {
      "cell_type": "markdown",
      "source": [
        "Les themes principaux : plaintes liées à la police, délais de réponse, conditions, véhicules/remorquages, convocations et arrestations."
      ],
      "metadata": {
        "id": "_Y6lyXjBLiEb"
      }
    },
    {
      "cell_type": "markdown",
      "source": [
        "Interpretation  : les grandes thématiques récurrentes dans les plaintes sont liées à l’intervention de la police, le suivi des plaintes, les véhicules/remorquages, les délais de réponse et les convocations"
      ],
      "metadata": {
        "id": "x4WRSulSLA2k"
      }
    },
    {
      "cell_type": "markdown",
      "source": [
        "2 - kmeans pour regrouper les textes similaires"
      ],
      "metadata": {
        "id": "n4zEyjoqH_NW"
      }
    },
    {
      "cell_type": "code",
      "source": [
        "from sklearn.cluster import KMeans\n",
        "\n",
        "# Appliquer KMeans sur les vecteurs TF-IDF\n",
        "n_clusters = 5\n",
        "kmeans = KMeans(n_clusters=n_clusters, random_state=42)\n",
        "kmeans.fit(X_tfidf)\n",
        "\n",
        "# Ajouter les clusters dans le DataFrame\n",
        "df['kmeans_cluster'] = kmeans.labels_\n",
        "\n",
        "# Afficher un échantillon\n",
        "df[['Resolution Description', 'cleaned_text', 'kmeans_cluster']].sample(5)\n"
      ],
      "metadata": {
        "colab": {
          "base_uri": "https://localhost:8080/",
          "height": 206
        },
        "id": "epEhSf5MG1fx",
        "outputId": "edafe100-d745-4cf4-f90d-01e8e7982663"
      },
      "execution_count": null,
      "outputs": [
        {
          "output_type": "execute_result",
          "data": {
            "text/plain": [
              "                                   Resolution Description  \\\n",
              "311318  The Police Department responded and upon arriv...   \n",
              "51687   The Police Department issued a summons in resp...   \n",
              "117752  The Police Department responded and upon arriv...   \n",
              "95052   The Police Department responded to the complai...   \n",
              "170789  The Police Department responded to the complai...   \n",
              "\n",
              "                                             cleaned_text  kmeans_cluster  \n",
              "311318  police department respond upon arrival respons...               1  \n",
              "51687   police department issue summon response complaint               3  \n",
              "117752  police department respond upon arrival respons...               1  \n",
              "95052   police department respond complaint take actio...               2  \n",
              "170789  police department respond complaint determine ...               4  "
            ],
            "text/html": [
              "\n",
              "  <div id=\"df-e6bbebf0-e146-43fe-8e86-2428a01581b1\" class=\"colab-df-container\">\n",
              "    <div>\n",
              "<style scoped>\n",
              "    .dataframe tbody tr th:only-of-type {\n",
              "        vertical-align: middle;\n",
              "    }\n",
              "\n",
              "    .dataframe tbody tr th {\n",
              "        vertical-align: top;\n",
              "    }\n",
              "\n",
              "    .dataframe thead th {\n",
              "        text-align: right;\n",
              "    }\n",
              "</style>\n",
              "<table border=\"1\" class=\"dataframe\">\n",
              "  <thead>\n",
              "    <tr style=\"text-align: right;\">\n",
              "      <th></th>\n",
              "      <th>Resolution Description</th>\n",
              "      <th>cleaned_text</th>\n",
              "      <th>kmeans_cluster</th>\n",
              "    </tr>\n",
              "  </thead>\n",
              "  <tbody>\n",
              "    <tr>\n",
              "      <th>311318</th>\n",
              "      <td>The Police Department responded and upon arriv...</td>\n",
              "      <td>police department respond upon arrival respons...</td>\n",
              "      <td>1</td>\n",
              "    </tr>\n",
              "    <tr>\n",
              "      <th>51687</th>\n",
              "      <td>The Police Department issued a summons in resp...</td>\n",
              "      <td>police department issue summon response complaint</td>\n",
              "      <td>3</td>\n",
              "    </tr>\n",
              "    <tr>\n",
              "      <th>117752</th>\n",
              "      <td>The Police Department responded and upon arriv...</td>\n",
              "      <td>police department respond upon arrival respons...</td>\n",
              "      <td>1</td>\n",
              "    </tr>\n",
              "    <tr>\n",
              "      <th>95052</th>\n",
              "      <td>The Police Department responded to the complai...</td>\n",
              "      <td>police department respond complaint take actio...</td>\n",
              "      <td>2</td>\n",
              "    </tr>\n",
              "    <tr>\n",
              "      <th>170789</th>\n",
              "      <td>The Police Department responded to the complai...</td>\n",
              "      <td>police department respond complaint determine ...</td>\n",
              "      <td>4</td>\n",
              "    </tr>\n",
              "  </tbody>\n",
              "</table>\n",
              "</div>\n",
              "    <div class=\"colab-df-buttons\">\n",
              "\n",
              "  <div class=\"colab-df-container\">\n",
              "    <button class=\"colab-df-convert\" onclick=\"convertToInteractive('df-e6bbebf0-e146-43fe-8e86-2428a01581b1')\"\n",
              "            title=\"Convert this dataframe to an interactive table.\"\n",
              "            style=\"display:none;\">\n",
              "\n",
              "  <svg xmlns=\"http://www.w3.org/2000/svg\" height=\"24px\" viewBox=\"0 -960 960 960\">\n",
              "    <path d=\"M120-120v-720h720v720H120Zm60-500h600v-160H180v160Zm220 220h160v-160H400v160Zm0 220h160v-160H400v160ZM180-400h160v-160H180v160Zm440 0h160v-160H620v160ZM180-180h160v-160H180v160Zm440 0h160v-160H620v160Z\"/>\n",
              "  </svg>\n",
              "    </button>\n",
              "\n",
              "  <style>\n",
              "    .colab-df-container {\n",
              "      display:flex;\n",
              "      gap: 12px;\n",
              "    }\n",
              "\n",
              "    .colab-df-convert {\n",
              "      background-color: #E8F0FE;\n",
              "      border: none;\n",
              "      border-radius: 50%;\n",
              "      cursor: pointer;\n",
              "      display: none;\n",
              "      fill: #1967D2;\n",
              "      height: 32px;\n",
              "      padding: 0 0 0 0;\n",
              "      width: 32px;\n",
              "    }\n",
              "\n",
              "    .colab-df-convert:hover {\n",
              "      background-color: #E2EBFA;\n",
              "      box-shadow: 0px 1px 2px rgba(60, 64, 67, 0.3), 0px 1px 3px 1px rgba(60, 64, 67, 0.15);\n",
              "      fill: #174EA6;\n",
              "    }\n",
              "\n",
              "    .colab-df-buttons div {\n",
              "      margin-bottom: 4px;\n",
              "    }\n",
              "\n",
              "    [theme=dark] .colab-df-convert {\n",
              "      background-color: #3B4455;\n",
              "      fill: #D2E3FC;\n",
              "    }\n",
              "\n",
              "    [theme=dark] .colab-df-convert:hover {\n",
              "      background-color: #434B5C;\n",
              "      box-shadow: 0px 1px 3px 1px rgba(0, 0, 0, 0.15);\n",
              "      filter: drop-shadow(0px 1px 2px rgba(0, 0, 0, 0.3));\n",
              "      fill: #FFFFFF;\n",
              "    }\n",
              "  </style>\n",
              "\n",
              "    <script>\n",
              "      const buttonEl =\n",
              "        document.querySelector('#df-e6bbebf0-e146-43fe-8e86-2428a01581b1 button.colab-df-convert');\n",
              "      buttonEl.style.display =\n",
              "        google.colab.kernel.accessAllowed ? 'block' : 'none';\n",
              "\n",
              "      async function convertToInteractive(key) {\n",
              "        const element = document.querySelector('#df-e6bbebf0-e146-43fe-8e86-2428a01581b1');\n",
              "        const dataTable =\n",
              "          await google.colab.kernel.invokeFunction('convertToInteractive',\n",
              "                                                    [key], {});\n",
              "        if (!dataTable) return;\n",
              "\n",
              "        const docLinkHtml = 'Like what you see? Visit the ' +\n",
              "          '<a target=\"_blank\" href=https://colab.research.google.com/notebooks/data_table.ipynb>data table notebook</a>'\n",
              "          + ' to learn more about interactive tables.';\n",
              "        element.innerHTML = '';\n",
              "        dataTable['output_type'] = 'display_data';\n",
              "        await google.colab.output.renderOutput(dataTable, element);\n",
              "        const docLink = document.createElement('div');\n",
              "        docLink.innerHTML = docLinkHtml;\n",
              "        element.appendChild(docLink);\n",
              "      }\n",
              "    </script>\n",
              "  </div>\n",
              "\n",
              "\n",
              "    <div id=\"df-9894d029-d945-483d-840d-06b00e1444b3\">\n",
              "      <button class=\"colab-df-quickchart\" onclick=\"quickchart('df-9894d029-d945-483d-840d-06b00e1444b3')\"\n",
              "                title=\"Suggest charts\"\n",
              "                style=\"display:none;\">\n",
              "\n",
              "<svg xmlns=\"http://www.w3.org/2000/svg\" height=\"24px\"viewBox=\"0 0 24 24\"\n",
              "     width=\"24px\">\n",
              "    <g>\n",
              "        <path d=\"M19 3H5c-1.1 0-2 .9-2 2v14c0 1.1.9 2 2 2h14c1.1 0 2-.9 2-2V5c0-1.1-.9-2-2-2zM9 17H7v-7h2v7zm4 0h-2V7h2v10zm4 0h-2v-4h2v4z\"/>\n",
              "    </g>\n",
              "</svg>\n",
              "      </button>\n",
              "\n",
              "<style>\n",
              "  .colab-df-quickchart {\n",
              "      --bg-color: #E8F0FE;\n",
              "      --fill-color: #1967D2;\n",
              "      --hover-bg-color: #E2EBFA;\n",
              "      --hover-fill-color: #174EA6;\n",
              "      --disabled-fill-color: #AAA;\n",
              "      --disabled-bg-color: #DDD;\n",
              "  }\n",
              "\n",
              "  [theme=dark] .colab-df-quickchart {\n",
              "      --bg-color: #3B4455;\n",
              "      --fill-color: #D2E3FC;\n",
              "      --hover-bg-color: #434B5C;\n",
              "      --hover-fill-color: #FFFFFF;\n",
              "      --disabled-bg-color: #3B4455;\n",
              "      --disabled-fill-color: #666;\n",
              "  }\n",
              "\n",
              "  .colab-df-quickchart {\n",
              "    background-color: var(--bg-color);\n",
              "    border: none;\n",
              "    border-radius: 50%;\n",
              "    cursor: pointer;\n",
              "    display: none;\n",
              "    fill: var(--fill-color);\n",
              "    height: 32px;\n",
              "    padding: 0;\n",
              "    width: 32px;\n",
              "  }\n",
              "\n",
              "  .colab-df-quickchart:hover {\n",
              "    background-color: var(--hover-bg-color);\n",
              "    box-shadow: 0 1px 2px rgba(60, 64, 67, 0.3), 0 1px 3px 1px rgba(60, 64, 67, 0.15);\n",
              "    fill: var(--button-hover-fill-color);\n",
              "  }\n",
              "\n",
              "  .colab-df-quickchart-complete:disabled,\n",
              "  .colab-df-quickchart-complete:disabled:hover {\n",
              "    background-color: var(--disabled-bg-color);\n",
              "    fill: var(--disabled-fill-color);\n",
              "    box-shadow: none;\n",
              "  }\n",
              "\n",
              "  .colab-df-spinner {\n",
              "    border: 2px solid var(--fill-color);\n",
              "    border-color: transparent;\n",
              "    border-bottom-color: var(--fill-color);\n",
              "    animation:\n",
              "      spin 1s steps(1) infinite;\n",
              "  }\n",
              "\n",
              "  @keyframes spin {\n",
              "    0% {\n",
              "      border-color: transparent;\n",
              "      border-bottom-color: var(--fill-color);\n",
              "      border-left-color: var(--fill-color);\n",
              "    }\n",
              "    20% {\n",
              "      border-color: transparent;\n",
              "      border-left-color: var(--fill-color);\n",
              "      border-top-color: var(--fill-color);\n",
              "    }\n",
              "    30% {\n",
              "      border-color: transparent;\n",
              "      border-left-color: var(--fill-color);\n",
              "      border-top-color: var(--fill-color);\n",
              "      border-right-color: var(--fill-color);\n",
              "    }\n",
              "    40% {\n",
              "      border-color: transparent;\n",
              "      border-right-color: var(--fill-color);\n",
              "      border-top-color: var(--fill-color);\n",
              "    }\n",
              "    60% {\n",
              "      border-color: transparent;\n",
              "      border-right-color: var(--fill-color);\n",
              "    }\n",
              "    80% {\n",
              "      border-color: transparent;\n",
              "      border-right-color: var(--fill-color);\n",
              "      border-bottom-color: var(--fill-color);\n",
              "    }\n",
              "    90% {\n",
              "      border-color: transparent;\n",
              "      border-bottom-color: var(--fill-color);\n",
              "    }\n",
              "  }\n",
              "</style>\n",
              "\n",
              "      <script>\n",
              "        async function quickchart(key) {\n",
              "          const quickchartButtonEl =\n",
              "            document.querySelector('#' + key + ' button');\n",
              "          quickchartButtonEl.disabled = true;  // To prevent multiple clicks.\n",
              "          quickchartButtonEl.classList.add('colab-df-spinner');\n",
              "          try {\n",
              "            const charts = await google.colab.kernel.invokeFunction(\n",
              "                'suggestCharts', [key], {});\n",
              "          } catch (error) {\n",
              "            console.error('Error during call to suggestCharts:', error);\n",
              "          }\n",
              "          quickchartButtonEl.classList.remove('colab-df-spinner');\n",
              "          quickchartButtonEl.classList.add('colab-df-quickchart-complete');\n",
              "        }\n",
              "        (() => {\n",
              "          let quickchartButtonEl =\n",
              "            document.querySelector('#df-9894d029-d945-483d-840d-06b00e1444b3 button');\n",
              "          quickchartButtonEl.style.display =\n",
              "            google.colab.kernel.accessAllowed ? 'block' : 'none';\n",
              "        })();\n",
              "      </script>\n",
              "    </div>\n",
              "\n",
              "    </div>\n",
              "  </div>\n"
            ],
            "application/vnd.google.colaboratory.intrinsic+json": {
              "type": "dataframe",
              "summary": "{\n  \"name\": \"df[['Resolution Description', 'cleaned_text', 'kmeans_cluster']]\",\n  \"rows\": 5,\n  \"fields\": [\n    {\n      \"column\": \"Resolution Description\",\n      \"properties\": {\n        \"dtype\": \"string\",\n        \"num_unique_values\": 4,\n        \"samples\": [\n          \"The Police Department issued a summons in response to the complaint.\",\n          \"The Police Department responded to the complaint and determined that police action was not necessary.\",\n          \"The Police Department responded and upon arrival those responsible for the condition were gone.\"\n        ],\n        \"semantic_type\": \"\",\n        \"description\": \"\"\n      }\n    },\n    {\n      \"column\": \"cleaned_text\",\n      \"properties\": {\n        \"dtype\": \"string\",\n        \"num_unique_values\": 4,\n        \"samples\": [\n          \"police department issue summon response complaint\",\n          \"police department respond complaint determine police action necessary\",\n          \"police department respond upon arrival responsible condition go\"\n        ],\n        \"semantic_type\": \"\",\n        \"description\": \"\"\n      }\n    },\n    {\n      \"column\": \"kmeans_cluster\",\n      \"properties\": {\n        \"dtype\": \"int32\",\n        \"num_unique_values\": 4,\n        \"samples\": [\n          3,\n          4,\n          1\n        ],\n        \"semantic_type\": \"\",\n        \"description\": \"\"\n      }\n    }\n  ]\n}"
            }
          },
          "metadata": {},
          "execution_count": 17
        }
      ]
    },
    {
      "cell_type": "markdown",
      "source": [
        "lire quelques exemples de clusters"
      ],
      "metadata": {
        "id": "MI3l7-WEI9Dn"
      }
    },
    {
      "cell_type": "code",
      "source": [
        "# Pour afficher les colonnes entières (pas de coupure de texte)\n",
        "pd.set_option(\"display.max_colwidth\", None)\n",
        "\n",
        "for i in range(n_clusters):\n",
        "    print(f\"\\nCluster {i}\")\n",
        "    print(\n",
        "        df[df['kmeans_cluster'] == i]['Resolution Description']\n",
        "        .sample(3, random_state=1)\n",
        "        .to_string(index=False)\n",
        "    )"
      ],
      "metadata": {
        "colab": {
          "base_uri": "https://localhost:8080/"
        },
        "id": "0eOzg2l-C8NO",
        "outputId": "cec0ea26-b206-46f8-ce84-50407e8b3f75"
      },
      "execution_count": null,
      "outputs": [
        {
          "output_type": "stream",
          "name": "stdout",
          "text": [
            "\n",
            "Cluster 0\n",
            "The Police Department responded to the complaint and with the information available observed no evidence of the violation at that time.\n",
            "                                               The Police Department reviewed your complaint and provided additional information below.\n",
            "The Police Department responded to the complaint and with the information available observed no evidence of the violation at that time.\n",
            "\n",
            "Cluster 1\n",
            "The Police Department responded and upon arrival those responsible for the condition were gone.\n",
            "The Police Department responded and upon arrival those responsible for the condition were gone.\n",
            "The Police Department responded and upon arrival those responsible for the condition were gone.\n",
            "\n",
            "Cluster 2\n",
            "The Police Department responded to the complaint and took action to fix the condition.\n",
            "The Police Department responded to the complaint and took action to fix the condition.\n",
            "The Police Department responded to the complaint and took action to fix the condition.\n",
            "\n",
            "Cluster 3\n",
            "The Police Department issued a summons in response to the complaint.\n",
            "The Police Department issued a summons in response to the complaint.\n",
            "The Police Department issued a summons in response to the complaint.\n",
            "\n",
            "Cluster 4\n",
            "The Police Department responded to the complaint and determined that police action was not necessary.\n",
            "The Police Department responded to the complaint and determined that police action was not necessary.\n",
            "The Police Department responded to the complaint and determined that police action was not necessary.\n"
          ]
        }
      ]
    },
    {
      "cell_type": "code",
      "source": [
        "for i in range(n_clusters):\n",
        "    print(f\"\\n Cluster {i}\")\n",
        "    print(df[df['kmeans_cluster'] == i]['Resolution Description'].sample(3, random_state=1).to_string(index=False))\n"
      ],
      "metadata": {
        "colab": {
          "base_uri": "https://localhost:8080/"
        },
        "id": "Az9HoD0eJA5w",
        "outputId": "61b4398d-b8ed-4277-ba9d-330710a58f21"
      },
      "execution_count": null,
      "outputs": [
        {
          "output_type": "stream",
          "name": "stdout",
          "text": [
            "\n",
            " Cluster 0\n",
            "The Police Department responded to the complaint and with the information available observed no evidence of the violation at that time.\n",
            "                                               The Police Department reviewed your complaint and provided additional information below.\n",
            "The Police Department responded to the complaint and with the information available observed no evidence of the violation at that time.\n",
            "\n",
            " Cluster 1\n",
            "The Police Department responded and upon arrival those responsible for the condition were gone.\n",
            "The Police Department responded and upon arrival those responsible for the condition were gone.\n",
            "The Police Department responded and upon arrival those responsible for the condition were gone.\n",
            "\n",
            " Cluster 2\n",
            "The Police Department responded to the complaint and took action to fix the condition.\n",
            "The Police Department responded to the complaint and took action to fix the condition.\n",
            "The Police Department responded to the complaint and took action to fix the condition.\n",
            "\n",
            " Cluster 3\n",
            "The Police Department issued a summons in response to the complaint.\n",
            "The Police Department issued a summons in response to the complaint.\n",
            "The Police Department issued a summons in response to the complaint.\n",
            "\n",
            " Cluster 4\n",
            "The Police Department responded to the complaint and determined that police action was not necessary.\n",
            "The Police Department responded to the complaint and determined that police action was not necessary.\n",
            "The Police Department responded to the complaint and determined that police action was not necessary.\n"
          ]
        }
      ]
    },
    {
      "cell_type": "markdown",
      "source": [
        "Interpretation : Les plaintes sont regroupées selon le type de réponse : simple accusé de réception, intervention, convocation, arrestation."
      ],
      "metadata": {
        "id": "els7LvQcLGVh"
      }
    },
    {
      "cell_type": "markdown",
      "source": [
        "Conclusion : Les plaintes citoyennes révèlent principalement des problèmes avec la police, surtout liés au suivi, aux délais et aux actions entreprises. On distingue plusieurs catégories de réponses (simple réponse, intervention, convocation, arrestation). Ces résultats permettent d’orienter les décisions vers l’amélioration du traitement et du suivi des plaintes."
      ],
      "metadata": {
        "id": "2i9az4uSN8Ke"
      }
    },
    {
      "cell_type": "code",
      "source": [
        "import matplotlib.pyplot as plt\n",
        "\n",
        "df['kmeans_cluster'].value_counts().sort_index().plot(kind='bar', color='skyblue')\n",
        "plt.title(\"Nombre de plaintes par cluster KMeans\")\n",
        "plt.xlabel(\"Cluster ID\")\n",
        "plt.ylabel(\"Nombre de plaintes\")\n",
        "plt.show()"
      ],
      "metadata": {
        "colab": {
          "base_uri": "https://localhost:8080/",
          "height": 467
        },
        "id": "W2T2xpufd_Wo",
        "outputId": "c313eb93-41e0-4e18-a230-57513e6a32ef"
      },
      "execution_count": null,
      "outputs": [
        {
          "output_type": "display_data",
          "data": {
            "text/plain": [
              "<Figure size 640x480 with 1 Axes>"
            ],
            "image/png": "[encoded data removed]"
          },
          "metadata": {}
        }
      ]
    },
    {
      "cell_type": "code",
      "source": [
        "df['Created Date'] = pd.to_datetime(df['Created Date'])\n",
        "df['Month'] = df['Created Date'].dt.month\n",
        "\n",
        "df['Month'].value_counts().sort_index().plot(kind='bar', color='green')\n",
        "plt.title(\"Nombre de plaintes par mois\")\n",
        "plt.xlabel(\"Mois\")\n",
        "plt.ylabel(\"Nombre de plaintes\")\n",
        "plt.show()"
      ],
      "metadata": {
        "colab": {
          "base_uri": "https://localhost:8080/",
          "height": 531
        },
        "id": "cxporGkLf1Cn",
        "outputId": "7b640248-0b76-4e59-bd56-ad04fed124eb"
      },
      "execution_count": null,
      "outputs": [
        {
          "output_type": "stream",
          "name": "stderr",
          "text": [
            "/tmp/ipython-input-3836233801.py:1: UserWarning: Could not infer format, so each element will be parsed individually, falling back to `dateutil`. To ensure parsing is consistent and as-expected, please specify a format.\n",
            "  df['Created Date'] = pd.to_datetime(df['Created Date'])\n"
          ]
        },
        {
          "output_type": "display_data",
          "data": {
            "text/plain": [
              "<Figure size 640x480 with 1 Axes>"
            ],
            "image/png": "[encoded data removed]"
          },
          "metadata": {}
        }
      ]
    }
  ]
}